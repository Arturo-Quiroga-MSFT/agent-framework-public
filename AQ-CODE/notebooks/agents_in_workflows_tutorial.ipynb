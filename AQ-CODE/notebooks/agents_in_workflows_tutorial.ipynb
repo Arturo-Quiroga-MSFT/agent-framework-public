{
 "cells": [
  {
   "cell_type": "markdown",
   "id": "e79469ff",
   "metadata": {},
   "source": [
    "# Agents in Workflows (Python) Tutorial Notebook\n",
    "\n",
    "This notebook walks through the steps from the Microsoft Learn tutorial: **Agents in Workflows**.\n",
    "\n",
    "Reference: https://learn.microsoft.com/en-us/agent-framework/tutorials/workflows/agents-in-workflows?pivots=programming-language-python\n",
    "\n",
    "You will learn how to:\n",
    "- Create Azure AI (Foundry) / Azure OpenAI backed agents.\n",
    "- Connect them in a sequential workflow (Writer → Reviewer).\n",
    "- Run the workflow in streaming mode (token updates) and non‑streaming mode.\n",
    "- Understand events (`AgentRunUpdateEvent`, `WorkflowOutputEvent`).\n",
    "- Manage async resource lifetimes correctly with `AsyncExitStack`."
   ]
  },
  {
   "cell_type": "markdown",
   "id": "dbf8a391",
   "metadata": {},
   "source": [
    "## Prerequisites\n",
    "1. Python 3.10+\n",
    "2. Install packages (choose the one(s) you need):\n",
    "   - `pip install agent-framework-azure-ai` (for `AzureAIAgentClient`)\n",
    "   - `pip install agent-framework-core` (core abstractions if not already included)\n",
    "   - `pip install python-dotenv azure-identity`\n",
    "3. Azure CLI authenticated: `az login`\n",
    "4. Environment variables for model backends. Examples (adapt to your setup):\n",
    "   - Azure AI Agent Service (Foundry style):\n",
    "     - `AZURE_AI_CHAT_MODEL` (e.g. gpt-4o-mini)\n",
    "     - Optionally endpoint variables if required by your deployment.\n",
    "   - Azure OpenAI (for non‑streaming example using `AzureOpenAIChatClient`):\n",
    "     - `AZURE_OPENAI_ENDPOINT`\n",
    "     - `AZURE_OPENAI_CHAT_DEPLOYMENT_NAME`\n",
    "5. (Optional) A `.env` file colocated with this notebook path to simplify configuration.\n",
    "\n",
    "> If you only want the streaming sample, you can skip the Azure OpenAI specific variables."
   ]
  },
  {
   "cell_type": "code",
   "execution_count": 1,
   "id": "a31a064f",
   "metadata": {},
   "outputs": [
    {
     "name": "stdout",
     "output_type": "stream",
     "text": [
      "Python: 3.13.7  Platform: Darwin\n",
      "✓ agent_framework available\n",
      "✓ azure.identity available\n"
     ]
    }
   ],
   "source": [
    "# (Optional) Installation helper – comment out if already installed.\n",
    "# %pip install agent-framework-azure-ai python-dotenv azure-identity\n",
    "# %pip install agent-framework-core\n",
    "import sys, platform, importlib\n",
    "print(f'Python: {sys.version.split()[0]}  Platform: {platform.system()}')\n",
    "for pkg in ('agent_framework', 'azure.identity'):\n",
    "    try:\n",
    "        importlib.import_module(pkg)\n",
    "        print(f'✓ {pkg} available')\n",
    "    except ImportError:\n",
    "        print(f'✗ {pkg} missing – install if required')"
   ]
  },
  {
   "cell_type": "markdown",
   "id": "b1395efa",
   "metadata": {},
   "source": [
    "## Step 1: Imports (Streaming Example)\n",
    "The streaming variant uses `AzureAIAgentClient` which manages Azure AI agents and provides streaming token updates via `AgentRunUpdateEvent`."
   ]
  },
  {
   "cell_type": "code",
   "execution_count": 2,
   "id": "1f164968",
   "metadata": {},
   "outputs": [
    {
     "name": "stdout",
     "output_type": "stream",
     "text": [
      "Loaded .env file\n"
     ]
    }
   ],
   "source": [
    "import asyncio\n",
    "from collections.abc import Awaitable, Callable\n",
    "from contextlib import AsyncExitStack\n",
    "from typing import Any\n",
    "from pathlib import Path\n",
    "\n",
    "from agent_framework import AgentRunUpdateEvent, WorkflowBuilder, WorkflowOutputEvent\n",
    "from agent_framework.azure import AzureAIAgentClient, AzureOpenAIChatClient\n",
    "from azure.identity.aio import AzureCliCredential as AsyncAzureCliCredential\n",
    "from azure.identity import AzureCliCredential\n",
    "from dotenv import load_dotenv\n",
    "import os\n",
    "\n",
    "# Load .env if present (non-fatal).\n",
    "env_path = Path.cwd() / '.env'\n",
    "if env_path.exists():\n",
    "    load_dotenv(env_path)\n",
    "    print('Loaded .env file')\n",
    "else:\n",
    "    print('No .env file found – ensure required environment variables are set.')"
   ]
  },
  {
   "cell_type": "markdown",
   "id": "dbb7178c",
   "metadata": {},
   "source": [
    "## Step 2: Create an Azure AI Agent Factory (`AsyncExitStack`)\n",
    "We encapsulate the async context so multiple agents share a single client and credential."
   ]
  },
  {
   "cell_type": "code",
   "execution_count": 3,
   "id": "8021f679",
   "metadata": {},
   "outputs": [],
   "source": [
    "async def create_azure_ai_agent_factory() -> tuple[Callable[..., Awaitable[Any]], Callable[[], Awaitable[None]]]:\n",
    "    \"\"\"Returns (agent_creator, close)\n",
    "    agent_creator(**kwargs) -> created agent (async context entered)\n",
    "    close() -> gracefully close all contexts\n",
    "    \"\"\"\n",
    "    stack = AsyncExitStack()\n",
    "    cred = await stack.enter_async_context(AsyncAzureCliCredential())\n",
    "    client = await stack.enter_async_context(AzureAIAgentClient(async_credential=cred))\n",
    "\n",
    "    async def agent_creator(**kwargs: Any) -> Any:\n",
    "        return await stack.enter_async_context(client.create_agent(**kwargs))\n",
    "\n",
    "    async def close() -> None:\n",
    "        await stack.aclose()\n",
    "\n",
    "    return agent_creator, close"
   ]
  },
  {
   "cell_type": "markdown",
   "id": "c3477b69",
   "metadata": {},
   "source": [
    "## Step 3–5: Create Agents, Build Workflow, Stream Execution\n",
    "We create a Writer and Reviewer agent, connect them, and stream token updates (`AgentRunUpdateEvent`)."
   ]
  },
  {
   "cell_type": "code",
   "execution_count": 4,
   "id": "e625c9c5",
   "metadata": {},
   "outputs": [],
   "source": [
    "async def run_streaming_workflow(prompt: str):\n",
    "    agent_factory, close = await create_azure_ai_agent_factory()\n",
    "    last_executor_id: str | None = None\n",
    "    try:\n",
    "        writer = await agent_factory(\n",
    "            name=\"Writer\",\n",
    "            instructions=(\"You are an excellent content writer. You create new content and edit contents based on feedback.\"),\n",
    "        )\n",
    "        reviewer = await agent_factory(\n",
    "            name=\"Reviewer\",\n",
    "            instructions=(\n",
    "                \"You are an excellent content reviewer. Provide actionable, concise feedback to improve the content.\"\n",
    "            ),\n",
    "        )\n",
    "        workflow = WorkflowBuilder().set_start_executor(writer).add_edge(writer, reviewer).build()\n",
    "        print('--- Streaming run start ---')\n",
    "        async for event in workflow.run_stream(prompt):\n",
    "            if isinstance(event, AgentRunUpdateEvent):\n",
    "                if event.executor_id != last_executor_id:\n",
    "                    if last_executor_id is not None:\n",
    "                        print()\n",
    "                    print(f\"{event.executor_id}: \", end='', flush=True)\n",
    "                    last_executor_id = event.executor_id\n",
    "                print(event.data, end='', flush=True)\n",
    "            elif isinstance(event, WorkflowOutputEvent):\n",
    "                print(\"\\n===== Final Output =====\")\n",
    "                print(event.data)\n",
    "        print(\"\\n--- Streaming run complete ---\")\n",
    "    finally:\n",
    "        await close()\n",
    "\n",
    "# Example invocation (uncomment to run once credentials & env set)\n",
    "# await run_streaming_workflow(\"Create a slogan for a new electric SUV that is affordable and fun to drive.\")"
   ]
  },
  {
   "cell_type": "code",
   "execution_count": 5,
   "id": "5f61060d",
   "metadata": {},
   "outputs": [
    {
     "name": "stdout",
     "output_type": "stream",
     "text": [
      "--- Streaming run start ---\n",
      "Writer: Electrify Your Drive: Affordable Adventure, Pure Fun.\n",
      "Reviewer: Drive Fun Forward: Affordable Electric Adventure Awaits.\n",
      "===== Final Output =====\n",
      "Drive Fun Forward: Affordable Electric Adventure Awaits.\n",
      "\n",
      "--- Streaming run complete ---\n"
     ]
    }
   ],
   "source": [
    "# Run the streaming workflow (execute this cell after configuring credentials)\n",
    "# (You can skip this if you plan to use the widget version below.)\n",
    "try:\n",
    "    asyncio.run(run_streaming_workflow(\"Create a slogan for a new electric SUV that is affordable and fun to drive.\"))\n",
    "except RuntimeError:  # Jupyter nested loop fallback\n",
    "    import nest_asyncio, asyncio as _asyncio\n",
    "    nest_asyncio.apply()\n",
    "    _asyncio.get_event_loop().run_until_complete(run_streaming_workflow(\"Create a slogan for a new electric SUV that is affordable and fun to drive.\"))"
   ]
  },
  {
   "cell_type": "markdown",
   "id": "16c12c22",
   "metadata": {},
   "source": [
    "## Optional: Add a Summarizer Agent\n",
    "This variant adds a third **Summarizer** agent after the Reviewer. It produces a concise final summary and an improved slogan."
   ]
  },
  {
   "cell_type": "code",
   "execution_count": 6,
   "id": "e9f41c4c",
   "metadata": {},
   "outputs": [
    {
     "name": "stderr",
     "output_type": "stream",
     "text": [
      "/opt/homebrew/Cellar/python@3.13/3.13.7/Frameworks/Python.framework/Versions/3.13/lib/python3.13/collections/__init__.py:452: RuntimeWarning: coroutine 'run_streaming_workflow' was never awaited\n",
      "  result = tuple_new(cls, iterable)\n",
      "RuntimeWarning: Enable tracemalloc to get the object allocation traceback\n"
     ]
    }
   ],
   "source": [
    "async def run_streaming_workflow_with_summarizer(prompt: str):\n",
    "    \"\"\"Run a 3-agent streaming workflow: Writer -> Reviewer -> Summarizer.\n",
    "\n",
    "    The Summarizer produces:\n",
    "      1. A refined final slogan (prefixed with 'Final Slogan:')\n",
    "      2. A brief (<=3 bullets) summary of the reviewer's key feedback points.\n",
    "    \"\"\"\n",
    "    agent_factory, close = await create_azure_ai_agent_factory()\n",
    "    last_executor_id: str | None = None\n",
    "    try:\n",
    "        writer = await agent_factory(\n",
    "            name=\"Writer\",\n",
    "            instructions=(\"You are an excellent content writer. You create new content and edit contents based on feedback.\"),\n",
    "        )\n",
    "        reviewer = await agent_factory(\n",
    "            name=\"Reviewer\",\n",
    "            instructions=(\"You are an excellent content reviewer. Provide actionable, concise feedback to improve the content.\"),\n",
    "        )\n",
    "        summarizer = await agent_factory(\n",
    "            name=\"Summarizer\",\n",
    "            instructions=(\"You are an expert summarizer. Given the writer's content and the reviewer's feedback: \"\n",
    "                        \"1) Produce an improved single-line final slogan prefixed with 'Final Slogan:'. \"\n",
    "                        \"2) Provide at most 3 concise bullet points summarizing key feedback themes. \"\n",
    "                        \"Be succinct.\"),\n",
    "        )\n",
    "        workflow = (\n",
    "            WorkflowBuilder()\n",
    "            .set_start_executor(writer)\n",
    "            .add_edge(writer, reviewer)\n",
    "            .add_edge(reviewer, summarizer)\n",
    "            .build()\n",
    "        )\n",
    "        print('--- Streaming run (with summarizer) start ---')\n",
    "        async for event in workflow.run_stream(prompt):\n",
    "            if isinstance(event, AgentRunUpdateEvent):\n",
    "                if event.executor_id != last_executor_id:\n",
    "                    if last_executor_id is not None:\n",
    "                        print()\n",
    "                    print(f\"{event.executor_id}: \", end='', flush=True)\n",
    "                    last_executor_id = event.executor_id\n",
    "                print(event.data, end='', flush=True)\n",
    "            elif isinstance(event, WorkflowOutputEvent):\n",
    "                print(\"\\n===== Final Output (Summarized) =====\")\n",
    "                print(event.data)\n",
    "        print(\"\\n--- Streaming run (with summarizer) complete ---\")\n",
    "    finally:\n",
    "        await close()"
   ]
  },
  {
   "cell_type": "markdown",
   "id": "4b5445fc",
   "metadata": {},
   "source": [
    "## Interactive Prompt & Agent Selector\n",
    "Use the widget below to enter a custom prompt and choose whether to include the Summarizer agent."
   ]
  },
  {
   "cell_type": "code",
   "execution_count": 7,
   "id": "7127479e",
   "metadata": {},
   "outputs": [
    {
     "data": {
      "application/vnd.jupyter.widget-view+json": {
       "model_id": "8a6a8e104c43485689f2f14006adb08c",
       "version_major": 2,
       "version_minor": 0
      },
      "text/plain": [
       "VBox(children=(Textarea(value='Create a slogan for a new electric SUV that is affordable and fun to drive.', d…"
      ]
     },
     "metadata": {},
     "output_type": "display_data"
    }
   ],
   "source": [
    "# (Optional) Install ipywidgets if not already available\n",
    "# You can run the following in a separate cell if missing:\n",
    "# %pip install ipywidgets nest_asyncio\n",
    "import asyncio\n",
    "from IPython.display import display\n",
    "\n",
    "try:\n",
    "    import ipywidgets as widgets  # type: ignore\n",
    "except ModuleNotFoundError:\n",
    "    raise ModuleNotFoundError(\"ipywidgets is not installed. Install with `%pip install ipywidgets nest_asyncio` and re-run this cell.\")\n",
    "\n",
    "# nest_asyncio lets us reuse the running loop if needed (e.g., some hosted notebook envs)\n",
    "try:\n",
    "    import nest_asyncio  # type: ignore\n",
    "except ModuleNotFoundError:\n",
    "    nest_asyncio = None\n",
    "\n",
    "prompt_input = widgets.Textarea(\n",
    "    value=\"Create a slogan for a new electric SUV that is affordable and fun to drive.\",\n",
    "    description=\"Prompt:\",\n",
    "    layout=widgets.Layout(width='100%', height='120px')\n",
    ")\n",
    "use_summarizer = widgets.Checkbox(value=True, description=\"Include Summarizer agent\")\n",
    "run_button = widgets.Button(description=\"Run Workflow\", button_style=\"primary\")\n",
    "output_area = widgets.Output(layout={'border': '1px solid #ccc'})\n",
    "status_label = widgets.HTML(value=\"\")\n",
    "\n",
    "\n",
    "def _ensure_loop_patch():\n",
    "    # If an event loop is already running (common in Jupyter), patch it for re-entrancy.\n",
    "    if nest_asyncio:\n",
    "        try:\n",
    "            asyncio.get_running_loop()\n",
    "            nest_asyncio.apply()\n",
    "        except RuntimeError:\n",
    "            pass\n",
    "\n",
    "\n",
    "def _run_clicked(_: widgets.Button):\n",
    "    output_area.clear_output()\n",
    "    status_label.value = \"<em>Running...</em>\"\n",
    "    prompt = prompt_input.value.strip() or \"Hello\"\n",
    "\n",
    "    async def runner():\n",
    "        try:\n",
    "            if use_summarizer.value:\n",
    "                await run_streaming_workflow_with_summarizer(prompt)\n",
    "            else:\n",
    "                await run_streaming_workflow(prompt)\n",
    "            status_label.value = \"<span style='color:green'>Done.</span>\"\n",
    "        except Exception as ex:  # noqa: BLE001 broad but user-facing\n",
    "            status_label.value = f\"<span style='color:red'>Error: {type(ex).__name__}: {ex}</span>\"\n",
    "\n",
    "    _ensure_loop_patch()\n",
    "    try:\n",
    "        loop = asyncio.get_running_loop()\n",
    "        loop.create_task(_run_and_capture(runner))\n",
    "    except RuntimeError:\n",
    "        # No running loop, safe to run directly\n",
    "        asyncio.run(runner())\n",
    "\n",
    "\n",
    "async def _run_and_capture(coro_factory):\n",
    "    async def _inner():\n",
    "        with output_area:\n",
    "            await coro_factory()\n",
    "    await _inner()\n",
    "\n",
    "\n",
    "run_button.on_click(_run_clicked)\n",
    "\n",
    "ui = widgets.VBox([\n",
    "    prompt_input,\n",
    "    use_summarizer,\n",
    "    run_button,\n",
    "    status_label,\n",
    "    output_area,\n",
    "])\n",
    "\n",
    "display(ui)"
   ]
  },
  {
   "cell_type": "code",
   "execution_count": 8,
   "id": "54b3f961",
   "metadata": {},
   "outputs": [],
   "source": [
    "# One-time install helper (run this cell if ipywidgets isn't installed, then re-run the widget cell)\n",
    "# %pip install ipywidgets nest_asyncio\n",
    "# After installation, you may need to restart the kernel in some environments."
   ]
  },
  {
   "cell_type": "markdown",
   "id": "4c3d0db0",
   "metadata": {},
   "source": [
    "## Non-Streaming Variant (Azure OpenAI)\n",
    "The repository already includes a non‑streaming script (`step2_agents_in_a_workflow.py`).\n",
    "Below is an adapted version in notebook form using `AzureOpenAIChatClient`. It collects full responses (`AgentRunEvent`) after completion."
   ]
  },
  {
   "cell_type": "code",
   "execution_count": 11,
   "id": "bb3a2cd0",
   "metadata": {},
   "outputs": [],
   "source": [
    "from agent_framework import AgentRunEvent\n",
    "\n",
    "async def run_non_streaming_workflow(prompt: str):\n",
    "    # Requires AZURE_OPENAI_ENDPOINT & AZURE_OPENAI_CHAT_DEPLOYMENT_NAME\n",
    "    endpoint = os.environ.get('AZURE_OPENAI_ENDPOINT')\n",
    "    deployment = os.environ.get('AZURE_OPENAI_CHAT_DEPLOYMENT_NAME')\n",
    "    if not endpoint or not deployment:\n",
    "        raise EnvironmentError('Missing required Azure OpenAI environment variables.')\n",
    "    chat_client = AzureOpenAIChatClient(\n",
    "        endpoint=endpoint,\n",
    "        deployment_name=deployment,\n",
    "        credential=AzureCliCredential()\n",
    "    )\n",
    "    writer = chat_client.create_agent(\n",
    "        instructions='You are an excellent content writer. You create new content and edit contents based on the feedback.',\n",
    "        name='writer',\n",
    "    )\n",
    "    reviewer = chat_client.create_agent(\n",
    "        instructions=(\n",
    "            'You are an excellent content reviewer. Provide actionable feedback to the writer about the provided content. Provide the feedback concisely.'\n",
    "        ),\n",
    "        name='reviewer',\n",
    "    )\n",
    "    workflow = WorkflowBuilder().set_start_executor(writer).add_edge(writer, reviewer).build()\n",
    "    events = await workflow.run(prompt)\n",
    "    for evt in events:\n",
    "        if isinstance(evt, AgentRunEvent):\n",
    "            print(f\"{evt.executor_id}: {evt.data}\")\n",
    "    print('='*60)\n",
    "    print('Workflow Outputs:', events.get_outputs())\n",
    "    print('Final State:', events.get_final_state())\n",
    "\n",
    "# Example invocation (uncomment to run)\n",
    "# asyncio.run(run_non_streaming_workflow('Create a slogan for a new electric SUV that is affordable and fun to drive.'))"
   ]
  },
  {
   "cell_type": "code",
   "execution_count": 12,
   "id": "8bd7b8f9",
   "metadata": {},
   "outputs": [
    {
     "name": "stdout",
     "output_type": "stream",
     "text": [
      "writer: Drive Fun, Go Far—Electrify Your Journey, Affordably.\n",
      "reviewer: Good slogan! Consider making it snappier for memorability. Try focusing on a direct call to action and the vehicle’s key strengths. For example: \"Electrify Your Drive—Affordable Adventure Awaits.\"\n",
      "============================================================\n",
      "Workflow Outputs: ['Good slogan! Consider making it snappier for memorability. Try focusing on a direct call to action and the vehicle’s key strengths. For example: \"Electrify Your Drive—Affordable Adventure Awaits.\"']\n",
      "Final State: WorkflowRunState.IDLE\n"
     ]
    }
   ],
   "source": [
    "# Run the non‑streaming workflow (execute after setting Azure OpenAI variables)\n",
    "try:\n",
    "    asyncio.run(run_non_streaming_workflow('Create a slogan for a new electric SUV that is affordable and fun to drive.'))\n",
    "except EnvironmentError as e:\n",
    "    print('Skipping non-streaming run –', e)\n",
    "except RuntimeError:\n",
    "    import nest_asyncio, asyncio as _asyncio\n",
    "    nest_asyncio.apply()\n",
    "    try:\n",
    "        _asyncio.get_event_loop().run_until_complete(run_non_streaming_workflow('Create a slogan for a new electric SUV that is affordable and fun to drive.'))\n",
    "    except EnvironmentError as e:\n",
    "        print('Skipping non-streaming run –', e)"
   ]
  },
  {
   "cell_type": "markdown",
   "id": "f2f51ae9",
   "metadata": {},
   "source": [
    "## How It Works & Key Concepts\n",
    "| Concept | Description |\n",
    "|---------|-------------|\n",
    "| Sequential Workflow | `WorkflowBuilder().set_start_executor(A).add_edge(A,B)` defines a linear pipeline. |\n",
    "| Agents as Executors | Agents are wrapped so their responses become workflow events automatically. |\n",
    "| Streaming Events | `AgentRunUpdateEvent` emits token chunks for responsive UX. |\n",
    "| Non-Streaming Events | `AgentRunEvent` contains the full response after the agent finishes. |\n",
    "| Final Output | `WorkflowOutputEvent` (streaming) or collected outputs from the event list (non-streaming). |\n",
    "| Resource Mgmt | `AsyncExitStack` centralizes setup/teardown of clients & credentials. |\n",
    "\n",
    "### Choosing Streaming vs Non-Streaming\n",
    "Use streaming when you want incremental UI updates; use non-streaming for simpler batch style execution or logging full results at once.\n",
    "\n",
    "### Next Ideas\n",
    "- Add a third agent (e.g., *Summarizer*) to compress Reviewer feedback.\n",
    "- Introduce custom executors that transform text (e.g., word count, sentiment).\n",
    "- Integrate a human-in-the-loop step (see the separate request/response tutorial)."
   ]
  }
 ],
 "metadata": {
  "kernelspec": {
   "display_name": ".venv",
   "language": "python",
   "name": "python3"
  },
  "language_info": {
   "codemirror_mode": {
    "name": "ipython",
    "version": 3
   },
   "file_extension": ".py",
   "mimetype": "text/x-python",
   "name": "python",
   "nbconvert_exporter": "python",
   "pygments_lexer": "ipython3",
   "version": "3.13.7"
  }
 },
 "nbformat": 4,
 "nbformat_minor": 5
}
